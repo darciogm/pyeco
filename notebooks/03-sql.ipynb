{
 "cells": [
  {
   "cell_type": "markdown",
   "metadata": {},
   "source": [
    "# Storing data effectively\n",
    "\n",
    "At this point, you should be comfortable with using base Pandas operators to select columns and select rows from a dataframe.\n",
    "\n",
    "In this lesson, we will use microdata from the ENEM 2022 exam. Run the code below to unzip and download the data:"
   ]
  },
  {
   "cell_type": "code",
   "execution_count": 65,
   "metadata": {},
   "outputs": [
    {
     "name": "stdout",
     "output_type": "stream",
     "text": [
      "File already exists.\n",
      "File already unzipped.\n"
     ]
    },
    {
     "data": {
      "text/plain": [
       "True"
      ]
     },
     "execution_count": 65,
     "metadata": {},
     "output_type": "execute_result"
    }
   ],
   "source": [
    "import requests \n",
    "import zipfile \n",
    "import pandas as pd \n",
    "import os\n",
    "from tqdm import tqdm\n",
    "\n",
    "def download_data():\n",
    "    if not os.path.exists('microdados_enem_2022.zip'):\n",
    "        print(\"File does not exist. Downloading now...\")\n",
    "    else:\n",
    "        print(\"File already exists.\")\n",
    "        return True\n",
    "        \n",
    "    url = 'https://download.inep.gov.br/microdados/microdados_enem_2022.zip'\n",
    "    headers = {'User-Agent': 'Mozilla/5.0 (Windows NT 10.0; Win64; x64; rv:91.0) Gecko/20100101 Firefox/91.0'}\n",
    "    response = requests.get(url, stream=True, headers=headers)\n",
    "    total_size = int(response.headers.get('content-length', 0))\n",
    "    block_size = 1024\n",
    "\n",
    "    with open('microdados_enem_2022.zip', 'wb') as file:\n",
    "        for data in tqdm(response.iter_content(block_size), total=total_size//block_size, unit='KB', unit_scale=True):\n",
    "            file.write(data)\n",
    "    \n",
    "    return True\n",
    "\n",
    "def unzip_data():\n",
    "    if not os.path.exists('microdados_enem_2022.csv'):\n",
    "        print(\"Unzipping the required file...\")\n",
    "    else:\n",
    "        print(\"File already unzipped.\")\n",
    "        return True\n",
    "\n",
    "    with zipfile.ZipFile('microdados_enem_2022.zip', 'r') as zip_ref:\n",
    "        zip_ref.extract('DADOS/MICRODADOS_ENEM_2022.csv')\n",
    "    os.rename('DADOS/MICRODADOS_ENEM_2022.csv', 'microdados_enem_2022.csv')\n",
    "    return True\n",
    "\n",
    "download_data()\n",
    "unzip_data()\n"
   ]
  },
  {
   "cell_type": "markdown",
   "metadata": {},
   "source": [
    "Trying to open this whole dataset can exceed your memory. Use `htop` and watch what happens when you try to execute this:"
   ]
  },
  {
   "cell_type": "code",
   "execution_count": 66,
   "metadata": {},
   "outputs": [],
   "source": [
    "#%timeit\n",
    "#df = pd.read_csv('microdados_enem_2022.csv', sep=';', decimal=',', encoding='latin1')"
   ]
  },
  {
   "cell_type": "code",
   "execution_count": 95,
   "metadata": {},
   "outputs": [
    {
     "name": "stderr",
     "output_type": "stream",
     "text": [
      "0it [00:00, ?it/s]"
     ]
    },
    {
     "name": "stderr",
     "output_type": "stream",
     "text": [
      "348it [01:14,  4.64it/s]\n"
     ]
    }
   ],
   "source": [
    "import sqlite3\n",
    "\n",
    "# Connect to SQLite database (or create it if it doesn't exist)\n",
    "conn = sqlite3.connect('my_database.db')\n",
    "cursor = conn.cursor()\n",
    "\n",
    "# Read CSV in chunks and insert into database\n",
    "chunk_size = 10000\n",
    "for chunk in tqdm(pd.read_csv('microdados_enem_2022.csv', sep=';', decimal=',', encoding='latin1', chunksize=chunk_size)):\n",
    "    # I will use this preprocessing feature later!\n",
    "    chunk = chunk[chunk['CO_MUNICIPIO_ESC'].notnull()]\n",
    "    chunk.loc[:,'CO_MUNICIPIO_ESC'] = chunk['CO_MUNICIPIO_ESC'].apply(lambda x: int(str(x).split('.')[0][:-1])) # Remove last digit from CO_MUNICIPIO_ESC\n",
    "    chunk.to_sql('enem_data', conn, if_exists='append', index=False)\n",
    "\n",
    "# Commit and close connection\n",
    "conn.commit()\n",
    "conn.close()"
   ]
  },
  {
   "cell_type": "markdown",
   "metadata": {},
   "source": [
    "## View database info"
   ]
  },
  {
   "cell_type": "markdown",
   "metadata": {},
   "source": [
    "## View tables in a database"
   ]
  },
  {
   "cell_type": "code",
   "execution_count": 96,
   "metadata": {},
   "outputs": [
    {
     "name": "stdout",
     "output_type": "stream",
     "text": [
      "[('enem_data',)]\n"
     ]
    }
   ],
   "source": [
    "import sqlite3\n",
    "\n",
    "# Connect to SQLite database\n",
    "conn = sqlite3.connect('my_database.db')\n",
    "cursor = conn.cursor()\n",
    "\n",
    "# Execute query to list tables\n",
    "cursor.execute(\"SELECT name FROM sqlite_master WHERE type='table';\")\n",
    "\n",
    "# Fetch and print the list of tables\n",
    "tables = cursor.fetchall()\n",
    "print(tables)\n",
    "\n",
    "# Close the connection\n",
    "conn.close()"
   ]
  },
  {
   "cell_type": "markdown",
   "metadata": {},
   "source": [
    "## View columns in a table"
   ]
  },
  {
   "cell_type": "code",
   "execution_count": 97,
   "metadata": {},
   "outputs": [
    {
     "name": "stdout",
     "output_type": "stream",
     "text": [
      "['NU_INSCRICAO', 'NU_ANO', 'TP_FAIXA_ETARIA', 'TP_SEXO', 'TP_ESTADO_CIVIL', 'TP_COR_RACA', 'TP_NACIONALIDADE', 'TP_ST_CONCLUSAO', 'TP_ANO_CONCLUIU', 'TP_ESCOLA', 'TP_ENSINO', 'IN_TREINEIRO', 'CO_MUNICIPIO_ESC', 'NO_MUNICIPIO_ESC', 'CO_UF_ESC', 'SG_UF_ESC', 'TP_DEPENDENCIA_ADM_ESC', 'TP_LOCALIZACAO_ESC', 'TP_SIT_FUNC_ESC', 'CO_MUNICIPIO_PROVA', 'NO_MUNICIPIO_PROVA', 'CO_UF_PROVA', 'SG_UF_PROVA', 'TP_PRESENCA_CN', 'TP_PRESENCA_CH', 'TP_PRESENCA_LC', 'TP_PRESENCA_MT', 'CO_PROVA_CN', 'CO_PROVA_CH', 'CO_PROVA_LC', 'CO_PROVA_MT', 'NU_NOTA_CN', 'NU_NOTA_CH', 'NU_NOTA_LC', 'NU_NOTA_MT', 'TX_RESPOSTAS_CN', 'TX_RESPOSTAS_CH', 'TX_RESPOSTAS_LC', 'TX_RESPOSTAS_MT', 'TP_LINGUA', 'TX_GABARITO_CN', 'TX_GABARITO_CH', 'TX_GABARITO_LC', 'TX_GABARITO_MT', 'TP_STATUS_REDACAO', 'NU_NOTA_COMP1', 'NU_NOTA_COMP2', 'NU_NOTA_COMP3', 'NU_NOTA_COMP4', 'NU_NOTA_COMP5', 'NU_NOTA_REDACAO', 'Q001', 'Q002', 'Q003', 'Q004', 'Q005', 'Q006', 'Q007', 'Q008', 'Q009', 'Q010', 'Q011', 'Q012', 'Q013', 'Q014', 'Q015', 'Q016', 'Q017', 'Q018', 'Q019', 'Q020', 'Q021', 'Q022', 'Q023', 'Q024', 'Q025']\n"
     ]
    }
   ],
   "source": [
    "import sqlite3\n",
    "\n",
    "# Connect to SQLite database\n",
    "conn = sqlite3.connect('my_database.db')\n",
    "cursor = conn.cursor()\n",
    "\n",
    "# Execute query to list columns in the enem_data table\n",
    "cursor.execute(\"PRAGMA table_info(enem_data);\")\n",
    "\n",
    "# Fetch and print the list of columns\n",
    "columns = cursor.fetchall()\n",
    "print([column[1] for column in columns])\n",
    "\n",
    "# Close the connection\n",
    "conn.close()"
   ]
  },
  {
   "cell_type": "markdown",
   "metadata": {},
   "source": [
    "## Types of queries\n"
   ]
  },
  {
   "cell_type": "markdown",
   "metadata": {},
   "source": [
    "### Queries and operations"
   ]
  },
  {
   "cell_type": "code",
   "execution_count": 3,
   "metadata": {},
   "outputs": [],
   "source": [
    "query = \"\"\"\n",
    "SELECT \n",
    "    CO_MUNICIPIO_ESC,\n",
    "    NO_MUNICIPIO_ESC,\n",
    "    NU_NOTA_MT,\n",
    "    (NU_NOTA_CN + NU_NOTA_CH + NU_NOTA_LC + NU_NOTA_MT)/4 AS NU_NOTA_TOTAL\n",
    "FROM \n",
    "    enem_data\n",
    "WHERE\n",
    "    TP_ESCOLA = 2 AND\n",
    "    TP_DEPENDENCIA_ADM_ESC = 2\n",
    "ORDER BY\n",
    "    NU_NOTA_TOTAL DESC\n",
    "LIMIT 10;\n",
    "\"\"\""
   ]
  },
  {
   "cell_type": "code",
   "execution_count": 4,
   "metadata": {},
   "outputs": [
    {
     "name": "stdout",
     "output_type": "stream",
     "text": [
      "(520860.0, 'Goianésia', '944.2', 788.0999999999999)\n",
      "(230945.0, 'Ocara', '940.7', 777.175)\n",
      "(430610.0, 'Cruz Alta', '843.3', 774.1500000000001)\n",
      "(431020.0, 'Ijuí', '930.7', 770.7749999999999)\n",
      "(420120.0, 'Antônio Carlos', '952.4', 770.1)\n",
      "(530010.0, 'Brasília', '871.7', 766.625)\n",
      "(261160.0, 'Recife', '876.6', 765.4499999999999)\n",
      "(431020.0, 'Ijuí', '920.5', 763.45)\n",
      "(431490.0, 'Porto Alegre', '915.1', 762.875)\n",
      "(230440.0, 'Fortaleza', '887.5', 761.025)\n"
     ]
    }
   ],
   "source": [
    "# Method 1: Using sqlite3 module\n",
    "import sqlite3\n",
    "\n",
    "# Connect to SQLite database\n",
    "conn = sqlite3.connect('my_database.db')\n",
    "cursor = conn.cursor()\n",
    "\n",
    "# Execute query to list columns in the enem_data table\n",
    "cursor.execute(query)\n",
    "\n",
    "# Fetch and print the query results\n",
    "results = cursor.fetchall()\n",
    "for row in results:\n",
    "    print(row)\n",
    "    \n",
    "# Close the connection\n",
    "conn.close()"
   ]
  },
  {
   "cell_type": "code",
   "execution_count": 5,
   "metadata": {},
   "outputs": [
    {
     "name": "stdout",
     "output_type": "stream",
     "text": [
      "   CO_MUNICIPIO_ESC NO_MUNICIPIO_ESC NU_NOTA_MT  NU_NOTA_TOTAL\n",
      "0          520860.0        Goianésia      944.2        788.100\n",
      "1          230945.0            Ocara      940.7        777.175\n",
      "2          430610.0        Cruz Alta      843.3        774.150\n",
      "3          431020.0             Ijuí      930.7        770.775\n",
      "4          420120.0   Antônio Carlos      952.4        770.100\n",
      "5          530010.0         Brasília      871.7        766.625\n",
      "6          261160.0           Recife      876.6        765.450\n",
      "7          431020.0             Ijuí      920.5        763.450\n",
      "8          431490.0     Porto Alegre      915.1        762.875\n",
      "9          230440.0        Fortaleza      887.5        761.025\n"
     ]
    }
   ],
   "source": [
    "# Method 2: Using pandas\n",
    "import sqlite3\n",
    "import pandas as pd\n",
    "\n",
    "# Connect to SQLite database\n",
    "conn = sqlite3.connect('my_database.db')\n",
    "\n",
    "# Execute query using pandas\n",
    "df = pd.read_sql_query(query, conn)\n",
    "\n",
    "print(df)"
   ]
  },
  {
   "cell_type": "markdown",
   "metadata": {},
   "source": [
    "### Aggregating results with MEAN"
   ]
  },
  {
   "cell_type": "code",
   "execution_count": 6,
   "metadata": {},
   "outputs": [
    {
     "name": "stdout",
     "output_type": "stream",
     "text": [
      "   CO_MUNICIPIO_ESC      NO_MUNICIPIO_ESC NU_NOTA_MT  NU_NOTA_TOTAL\n",
      "0          311720.0  Conceição das Pedras      794.3     648.300000\n",
      "1          312990.0     Ibitiúra de Minas      671.9     631.050000\n",
      "2          521480.0           Nova Aurora      717.5     620.475000\n",
      "3          411160.0               Ivatuba      609.6     612.025000\n",
      "4          350395.0               Aspásia      683.4     604.800000\n",
      "5          431190.0       Marcelino Ramos      665.4     603.212500\n",
      "6          310700.0             Biquinhas      661.3     600.700000\n",
      "7          314053.0        Martins Soares       None     600.606250\n",
      "8          430720.0          Erval Grande       None     593.216667\n",
      "9          350110.0           Alto Alegre      700.4     592.975000\n"
     ]
    }
   ],
   "source": [
    "query = \"\"\"\n",
    "SELECT \n",
    "    CO_MUNICIPIO_ESC,\n",
    "    NO_MUNICIPIO_ESC,\n",
    "    NU_NOTA_MT,\n",
    "    AVG((NU_NOTA_CN + NU_NOTA_CH + NU_NOTA_LC + NU_NOTA_MT)/4) AS NU_NOTA_TOTAL\n",
    "FROM \n",
    "    enem_data\n",
    "WHERE\n",
    "    TP_ESCOLA = 2 AND\n",
    "    TP_DEPENDENCIA_ADM_ESC = 2\n",
    "GROUP BY\n",
    "    CO_MUNICIPIO_ESC\n",
    "ORDER BY\n",
    "    NU_NOTA_TOTAL DESC\n",
    "LIMIT 10;\n",
    "\"\"\"\n",
    "\n",
    "conn = sqlite3.connect('my_database.db')\n",
    "df = pd.read_sql_query(query, conn)\n",
    "print(df)"
   ]
  },
  {
   "cell_type": "markdown",
   "metadata": {},
   "source": [
    "### Using intermediate results"
   ]
  },
  {
   "cell_type": "code",
   "execution_count": 7,
   "metadata": {},
   "outputs": [
    {
     "name": "stdout",
     "output_type": "stream",
     "text": [
      "   CO_MUNICIPIO_ESC      NO_MUNICIPIO_ESC NU_NOTA_MT  NU_NOTA_TOTAL\n",
      "0          311720.0  Conceição das Pedras      794.3     648.300000\n",
      "1          312990.0     Ibitiúra de Minas      671.9     631.050000\n",
      "2          521480.0           Nova Aurora      717.5     620.475000\n",
      "3          411160.0               Ivatuba      609.6     612.025000\n",
      "4          350395.0               Aspásia      683.4     604.800000\n",
      "5          431190.0       Marcelino Ramos      665.4     603.212500\n",
      "6          310700.0             Biquinhas      661.3     600.700000\n",
      "7          314053.0        Martins Soares       None     600.606250\n",
      "8          430720.0          Erval Grande       None     593.216667\n",
      "9          350110.0           Alto Alegre      700.4     592.975000\n"
     ]
    }
   ],
   "source": [
    "query = \"\"\"\n",
    "WITH MEAN_GRADES AS (\n",
    "    SELECT \n",
    "        CO_MUNICIPIO_ESC,\n",
    "        NO_MUNICIPIO_ESC,\n",
    "        NU_NOTA_MT,\n",
    "        AVG((NU_NOTA_CN + NU_NOTA_CH + NU_NOTA_LC + NU_NOTA_MT)/4) AS NU_NOTA_TOTAL\n",
    "    FROM \n",
    "        enem_data\n",
    "    WHERE\n",
    "        TP_ESCOLA = 2 AND\n",
    "        TP_DEPENDENCIA_ADM_ESC = 2\n",
    "    GROUP BY\n",
    "        CO_MUNICIPIO_ESC\n",
    "    ORDER BY\n",
    "        NU_NOTA_TOTAL DESC\n",
    "    LIMIT 10\n",
    ")\n",
    "\n",
    "SELECT\n",
    "    *\n",
    "FROM\n",
    "    MEAN_GRADES\n",
    "WHERE\n",
    "    NU_NOTA_TOTAL > 540;\n",
    "\"\"\"\n",
    "\n",
    "conn = sqlite3.connect('my_database.db')\n",
    "df = pd.read_sql_query(query, conn)\n",
    "print(df)"
   ]
  },
  {
   "cell_type": "markdown",
   "metadata": {},
   "source": [
    "## Dealing with multiple tables"
   ]
  },
  {
   "cell_type": "code",
   "execution_count": 103,
   "metadata": {},
   "outputs": [
    {
     "name": "stdout",
     "output_type": "stream",
     "text": [
      "[('enem_data',), ('gdp_per_capita',)]\n"
     ]
    }
   ],
   "source": [
    "import pandas as pd\n",
    "df = pd.read_csv(\n",
    "    'data.csv',\n",
    "    sep=';',\n",
    "    decimal=',',\n",
    "    skiprows=3,\n",
    "    skipfooter=11,\n",
    "    engine='python',\n",
    ")\n",
    "df['COD_MUNICIPIO'] = df['Município'].apply(lambda x : x.split(sep=' ', maxsplit=1)[0])\n",
    "\n",
    "conn = sqlite3.connect('my_database.db')\n",
    "cursor = conn.cursor()\n",
    "df.to_sql('gdp_per_capita', conn, if_exists='replace', index=False)\n",
    "conn.commit()\n",
    "\n",
    "cursor.execute(\"SELECT name FROM sqlite_master WHERE type='table';\")\n",
    "tables = cursor.fetchall()\n",
    "print(tables)\n"
   ]
  },
  {
   "cell_type": "markdown",
   "metadata": {},
   "source": [
    "### A query with \"join\""
   ]
  },
  {
   "cell_type": "code",
   "execution_count": 9,
   "metadata": {},
   "outputs": [
    {
     "name": "stdout",
     "output_type": "stream",
     "text": [
      "     CO_MUNICIPIO_ESC     NO_MUNICIPIO_ESC SG_UF_ESC  PIB_per_capita  \\\n",
      "0            350395.0              Aspásia        SP        11055.89   \n",
      "1            350110.0          Alto Alegre        SP        17363.72   \n",
      "2            354610.0  Santa Clara d'Oeste        SP        21471.68   \n",
      "3            355465.0       Torre de Pedra        SP        10040.78   \n",
      "4            350230.0              Anhembi        SP        17558.27   \n",
      "..                ...                  ...       ...             ...   \n",
      "634          351810.0             Guarantã        SP        17143.27   \n",
      "635          351800.0      Guarani d'Oeste        SP        12624.12   \n",
      "636          351420.0         Dolcinópolis        SP        14735.86   \n",
      "637          351250.0             Coroados        SP        17846.43   \n",
      "638          350180.0    Américo de Campos        SP        11728.86   \n",
      "\n",
      "     NU_NOTA_TOTAL  \n",
      "0          604.800  \n",
      "1          592.975  \n",
      "2          591.275  \n",
      "3          580.450  \n",
      "4          570.300  \n",
      "..             ...  \n",
      "634            NaN  \n",
      "635            NaN  \n",
      "636            NaN  \n",
      "637            NaN  \n",
      "638            NaN  \n",
      "\n",
      "[639 rows x 5 columns]\n"
     ]
    }
   ],
   "source": [
    "query = \"\"\"\n",
    "SELECT \n",
    "    enem_data.CO_MUNICIPIO_ESC,\n",
    "    enem_data.NO_MUNICIPIO_ESC,\n",
    "    enem_data.SG_UF_ESC,\n",
    "    gdp_per_capita.PIB_per_capita,\n",
    "    AVG((enem_data.NU_NOTA_CN + enem_data.NU_NOTA_CH + enem_data.NU_NOTA_LC + enem_data.NU_NOTA_MT)/4) AS NU_NOTA_TOTAL\n",
    "FROM \n",
    "    enem_data JOIN gdp_per_capita ON enem_data.CO_MUNICIPIO_ESC = gdp_per_capita.COD_MUNICIPIO\n",
    "WHERE\n",
    "    enem_data.TP_ESCOLA = 2 AND\n",
    "    enem_data.TP_DEPENDENCIA_ADM_ESC = 2\n",
    "GROUP BY\n",
    "    enem_data.CO_MUNICIPIO_ESC\n",
    "ORDER BY\n",
    "    NU_NOTA_TOTAL DESC\n",
    "\"\"\"\n",
    "\n",
    "conn = sqlite3.connect('my_database.db')\n",
    "df = pd.read_sql_query(query, conn)\n",
    "print(df)"
   ]
  },
  {
   "cell_type": "code",
   "execution_count": 11,
   "metadata": {},
   "outputs": [
    {
     "name": "stdout",
     "output_type": "stream",
     "text": [
      "Correlation coefficient: 0.16731463773154814 (p-value: 2.6599083248557167e-05)\n"
     ]
    },
    {
     "data": {
      "image/png": "[encoded data removed]",
      "text/plain": [
       "<Figure size 400x400 with 1 Axes>"
      ]
     },
     "metadata": {},
     "output_type": "display_data"
    }
   ],
   "source": [
    "import scipy.stats as st\n",
    "import matplotlib.pyplot as plt\n",
    "import numpy as np\n",
    "df = df.dropna(subset=['NU_NOTA_TOTAL'])\n",
    "x = np.log10(df['PIB_per_capita'])\n",
    "y = df['NU_NOTA_TOTAL']\n",
    "uf = df['SG_UF_ESC']\n",
    "r, p = st.pearsonr(x, y)\n",
    "print(f\"Correlation coefficient: {r} (p-value: {p})\")\n",
    "plt.figure(figsize=(4, 4))\n",
    "plt.scatter(x, y, alpha=0.5)\n",
    "plt.xlabel('GDP per capita')\n",
    "plt.ylabel('Average ENEM score')\n",
    "plt.title('Average ENEM grade and GDP per capita in municipalities')\n",
    "plt.show()"
   ]
  },
  {
   "cell_type": "code",
   "execution_count": null,
   "metadata": {},
   "outputs": [],
   "source": []
  },
  {
   "cell_type": "markdown",
   "metadata": {},
   "source": [
    "## Review and exercises\n",
    "\n",
    "At this point, you should have used:\n",
    "\n",
    "* SQL queries\n",
    "* Aggregation operators\n",
    "* Intermediate results\n",
    "* Join\n",
    "\n",
    "Now, let's proceed to some exercises:"
   ]
  },
  {
   "cell_type": "code",
   "execution_count": null,
   "metadata": {},
   "outputs": [],
   "source": [
    "# Challenge 1\n",
    "# Using a SQL query, find the average total score of students who attended public schools (TP_ESCOLA = 2) \n",
    "# and private schools (TP_ESCOLA = 3) in the state of São Paulo (SG_UF_ESC = 'SP').\n"
   ]
  },
  {
   "cell_type": "code",
   "execution_count": null,
   "metadata": {},
   "outputs": [],
   "source": [
    "# Challenge 2\n",
    "# Using a SQL query, find the average total score of students who attended public schools (TP_ESCOLA = 2) \n",
    "# and private schools (TP_ESCOLA = 3) in the 10 wealthiest cities state of São Paulo."
   ]
  },
  {
   "cell_type": "code",
   "execution_count": null,
   "metadata": {},
   "outputs": [],
   "source": [
    "# Challenge 3\n",
    "# Using a SQL query, find the average total score of students who attended state, federal, and city public schools (TP_ESCOLA = 2)"
   ]
  },
  {
   "cell_type": "code",
   "execution_count": null,
   "metadata": {},
   "outputs": [],
   "source": [
    "# Challenge 4\n",
    "# Using a SQL query, find the average GDP of the 10 cities with the highest average total score of students who attended public schools\n",
    "# (TP_ESCOLA = 2)\n"
   ]
  },
  {
   "cell_type": "code",
   "execution_count": null,
   "metadata": {},
   "outputs": [],
   "source": [
    "# Challenge 5\n",
    "# Using a SQL query, find which are the three states with higher average total \n",
    "# score of students who attended state public schools (TP_ESCOLA = 2, TP_DEPENDENCIA_ADM_ESC = 2)\n"
   ]
  },
  {
   "cell_type": "code",
   "execution_count": null,
   "metadata": {},
   "outputs": [],
   "source": [
    "# Challenge 6\n",
    "# Get data from ENEM 2023 and check if the three states with higher average total score of students who attended state public schools (TP_ESCOLA = 2, TP_DEPENDENCIA_ADM_ESC = 2)\n",
    "# are the same as in 2022. If not, what are the differences?\n"
   ]
  },
  {
   "cell_type": "code",
   "execution_count": null,
   "metadata": {},
   "outputs": [],
   "source": [
    "# Challenge 7\n",
    "# Get data from DataSUS and check if there is a correlation between the illiteracy rates in each city and the \n",
    "# average total score of students who attended public schools in that city.\n"
   ]
  }
 ],
 "metadata": {
  "kernelspec": {
   "display_name": "pyeco",
   "language": "python",
   "name": "python3"
  },
  "language_info": {
   "codemirror_mode": {
    "name": "ipython",
    "version": 3
   },
   "file_extension": ".py",
   "mimetype": "text/x-python",
   "name": "python",
   "nbconvert_exporter": "python",
   "pygments_lexer": "ipython3",
   "version": "3.13.1"
  }
 },
 "nbformat": 4,
 "nbformat_minor": 2
}
